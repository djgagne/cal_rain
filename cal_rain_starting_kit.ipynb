{
 "cells": [
  {
   "cell_type": "markdown",
   "metadata": {},
   "source": [
    "# National Center for Atmospheric Research\n",
    "# California Seasonal Rainfall Prediction Starting Kit\n",
    "David John Gagne II\n",
    "\n",
    "## Introduction\n",
    "\n",
    "### Requirements\n",
    "* numpy\n",
    "* scipy\n",
    "* matplotlib\n",
    "* xarray\n",
    "* pandas\n",
    "* scikit-learn\n",
    "\n",
    "## NCAR Last Millennium Ensemble\n",
    "\n",
    "\n",
    "## The Data\n",
    "* TS: temperature at the surface (K)\n",
    "* PSL: mean sea level pressure (Pa) (not Pumpkin Spice Lattes!)\n",
    "* TMQ: precipitable water (mm)\n",
    "* U_500: west-east component of the wind at the 500 mb pressure level (m/s)\n",
    "* V_500: south-north component of the wind at the 500 mb pressure level (m/s)\n",
    "* Z3_500: geopotential height of the 500 mb pressure level (m)\n",
    "\n",
    "The goal is to predict the amount of rainfall in northern California from December through February given monthly averaged atmospheric fields from the previous November."
   ]
  },
  {
   "cell_type": "code",
   "execution_count": 18,
   "metadata": {},
   "outputs": [],
   "source": [
    "%matplotlib inline\n",
    "import numpy as np\n",
    "import xarray as xr\n",
    "import pandas as pd\n",
    "import matplotlib.pyplot as plt\n",
    "from os.path import join\n",
    "import cartopy.crs as ccrs\n",
    "from ipywidgets import interact"
   ]
  },
  {
   "cell_type": "code",
   "execution_count": 2,
   "metadata": {
    "collapsed": true
   },
   "outputs": [],
   "source": [
    "def read_data(path, f_prefix):\n",
    "    data_vars = [\"TS\", \"PSL\", \"TMQ\", \"U_500\", \"V_500\", \"Z3_500\"]\n",
    "    X_coll = []\n",
    "    for data_var in data_vars:\n",
    "        nc_file = join(path, \"data\", f_prefix + \"_{0}.nc\".format(data_var))\n",
    "        print(nc_file)\n",
    "        ds = xr.open_dataset(nc_file, decode_times=False)\n",
    "        ds.load()\n",
    "        X_coll.append(ds[data_var].stack(enstime=(\"ens\", \"time\")).transpose(\"enstime\", \"lat\", \"lon\"))\n",
    "        ds.close()\n",
    "    X_ds = xr.merge(X_coll)\n",
    "    y = pd.read_csv(join(path, \"data\", f_prefix + \"_precip_90.csv\"), index_col=\"Year\")\n",
    "    y_array = np.concatenate([y[c] for c in y.columns])\n",
    "    return X_ds, y_array"
   ]
  },
  {
   "cell_type": "code",
   "execution_count": 3,
   "metadata": {},
   "outputs": [
    {
     "name": "stdout",
     "output_type": "stream",
     "text": [
      "./data/train_TS.nc\n",
      "./data/train_PSL.nc\n",
      "./data/train_TMQ.nc\n",
      "./data/train_U_500.nc\n",
      "./data/train_V_500.nc\n",
      "./data/train_Z3_500.nc\n"
     ]
    }
   ],
   "source": [
    "train_X, train_y = read_data(\"./\", \"train\")"
   ]
  },
  {
   "cell_type": "code",
   "execution_count": 35,
   "metadata": {},
   "outputs": [
    {
     "data": {
      "text/plain": [
       "(96, 144)"
      ]
     },
     "execution_count": 35,
     "metadata": {},
     "output_type": "execute_result"
    }
   ],
   "source": [
    "train_X[\"TS\"].sel(ens=0, time=334.0).shape"
   ]
  },
  {
   "cell_type": "code",
   "execution_count": 52,
   "metadata": {},
   "outputs": [
    {
     "data": {
      "application/vnd.jupyter.widget-view+json": {
       "model_id": "6f9fff9f6c0f48539803709b9017e3fb",
       "version_major": 2,
       "version_minor": 0
      },
      "text/plain": [
       "A Jupyter Widget"
      ]
     },
     "metadata": {},
     "output_type": "display_data"
    },
    {
     "data": {
      "text/plain": [
       "<function __main__.plot_grid>"
      ]
     },
     "execution_count": 52,
     "metadata": {},
     "output_type": "execute_result"
    }
   ],
   "source": [
    "years = np.arange(850, 2005)\n",
    "def plot_grid(ens, year, var):\n",
    "    ti = np.where(year == years)[0][0]\n",
    "    fig = plt.figure(figsize=(10, 5))\n",
    "    ax = plt.axes(projection=ccrs.PlateCarree(central_longitude=180))\n",
    "    ax.coastlines()\n",
    "    min_val = train_X[var].min()\n",
    "    max_val = train_X[var].max()\n",
    "    cont = ax.contourf(train_X[\"lon\"] - 180, train_X[\"lat\"], \n",
    "                       train_X[var].sel(ens=ens, time=train_X[\"time\"].values[ti]),\n",
    "                       np.linspace(min_val, max_val, 20))\n",
    "    ax.set_title(var + \" \" + \"Year: {0:d} Member {1}\".format(year, ens))\n",
    "    plt.colorbar(cont)\n",
    "interact(plot_grid, ens=[0, 1, 2, 3], year=SelectionSlider(options=years.tolist()), \n",
    "         var=[\"TS\", \"PSL\", \"TMQ\", \"U_500\", \"V_500\", \"Z3_500\"])"
   ]
  },
  {
   "cell_type": "code",
   "execution_count": 55,
   "metadata": {},
   "outputs": [
    {
     "data": {
      "text/plain": [
       "(array([ 4158.,     0.,     0.,     0.,     0.,     0.,     0.,     0.,\n",
       "            0.,   462.]),\n",
       " array([ 0. ,  0.1,  0.2,  0.3,  0.4,  0.5,  0.6,  0.7,  0.8,  0.9,  1. ]),\n",
       " <a list of 10 Patch objects>)"
      ]
     },
     "execution_count": 55,
     "metadata": {},
     "output_type": "execute_result"
    },
    {
     "data": {
      "image/png": "[encoded data removed]",
      "text/plain": [
       "<matplotlib.figure.Figure at 0x1eba80860>"
      ]
     },
     "metadata": {},
     "output_type": "display_data"
    }
   ],
   "source": [
    "plt.hist(train_y)"
   ]
  },
  {
   "cell_type": "code",
   "execution_count": null,
   "metadata": {
    "collapsed": true
   },
   "outputs": [],
   "source": []
  }
 ],
 "metadata": {
  "anaconda-cloud": {},
  "kernelspec": {
   "display_name": "Python [conda env:ramp]",
   "language": "python",
   "name": "conda-env-ramp-py"
  },
  "language_info": {
   "codemirror_mode": {
    "name": "ipython",
    "version": 3
   },
   "file_extension": ".py",
   "mimetype": "text/x-python",
   "name": "python",
   "nbconvert_exporter": "python",
   "pygments_lexer": "ipython3",
   "version": "3.6.2"
  }
 },
 "nbformat": 4,
 "nbformat_minor": 2
}
