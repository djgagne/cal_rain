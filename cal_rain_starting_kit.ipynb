{
 "cells": [
  {
   "cell_type": "markdown",
   "metadata": {},
   "source": [
    "# National Center for Atmospheric Research\n",
    "# California Seasonal Rainfall Prediction Starting Kit\n",
    "David John Gagne II\n",
    "\n",
    "## Introduction\n",
    "\n",
    "### Requirements\n",
    "* numpy\n",
    "* scipy\n",
    "* matplotlib\n",
    "* xarray\n",
    "* pandas\n",
    "* scikit-learn\n",
    "\n",
    "## NCAR Last Millennium Ensemble\n",
    "\n",
    "\n",
    "## The Data\n",
    "* TS: temperature at the surface (K)\n",
    "* PSL: mean sea level pressure (Pa) (not Pumpkin Spice Lattes!)\n",
    "* TMQ: precipitable water (mm)\n",
    "* U_500: west-east component of the wind at the 500 mb pressure level (m/s)\n",
    "* V_500: south-north component of the wind at the 500 mb pressure level (m/s)\n",
    "* Z3_500: geopotential height of the 500 mb pressure level (m)\n",
    "\n",
    "The goal is to predict the amount of rainfall in northern California from December through February given monthly averaged atmospheric fields from the previous November."
   ]
  },
  {
   "cell_type": "code",
   "execution_count": 1,
   "metadata": {
    "collapsed": true
   },
   "outputs": [],
   "source": [
    "%matplotlib inline\n",
    "import numpy as np\n",
    "import xarray as xr\n",
    "import pandas as pd\n",
    "import matplotlib.pyplot as plt"
   ]
  },
  {
   "cell_type": "code",
   "execution_count": null,
   "metadata": {
    "collapsed": true
   },
   "outputs": [],
   "source": []
  }
 ],
 "metadata": {
  "anaconda-cloud": {},
  "kernelspec": {
   "display_name": "Python [default]",
   "language": "python",
   "name": "python3"
  },
  "language_info": {
   "codemirror_mode": {
    "name": "ipython",
    "version": 3
   },
   "file_extension": ".py",
   "mimetype": "text/x-python",
   "name": "python",
   "nbconvert_exporter": "python",
   "pygments_lexer": "ipython3",
   "version": "3.5.2"
  }
 },
 "nbformat": 4,
 "nbformat_minor": 2
}
